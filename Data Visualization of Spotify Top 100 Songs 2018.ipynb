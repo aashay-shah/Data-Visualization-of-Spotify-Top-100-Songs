{
 "cells": [
  {
   "cell_type": "markdown",
   "metadata": {},
   "source": [
    "# Analysis of Top 100 Spotify Tracks of 2018"
   ]
  },
  {
   "cell_type": "markdown",
   "metadata": {},
   "source": [
    "#### At the end of each year, Spotify compiles a playlist of the songs streamed most often over the course of that year. The playlist Top Tracks of 2018 includes 100 songs. The question is: What do these top songs have in common? Why do people like them?\n",
    "\n",
    "#### Data Source: Kaggle\n",
    "\n",
    "#### Data Description: There is one .csv file in the dataset. (2018.csv) This file includes:\n",
    "1. Spotify URI for the song\n",
    "2. Name of the song\n",
    "3. Artist(s) of the song\n",
    "4. Audio features for the song (such as danceability, tempo, key etc.)\n",
    "\n",
    "##### At the end of this notebook, we will provide a conclusion of our study"
   ]
  },
  {
   "cell_type": "markdown",
   "metadata": {},
   "source": [
    "### Import Numpy, Pandas, Matplotlib, Seaborn and Scipy"
   ]
  },
  {
   "cell_type": "code",
   "execution_count": 1,
   "metadata": {},
   "outputs": [],
   "source": [
    "import numpy as np\n",
    "import pandas as pd\n",
    "import matplotlib.pyplot as plt\n",
    "import seaborn as sns\n",
    "from scipy.stats import pearsonr\n",
    "%matplotlib inline\n",
    "sns.set_style('darkgrid')"
   ]
  },
  {
   "cell_type": "markdown",
   "metadata": {},
   "source": [
    "### Read the csv file as a Dataframe named df"
   ]
  },
  {
   "cell_type": "code",
   "execution_count": 2,
   "metadata": {},
   "outputs": [],
   "source": [
    "df = pd.read_csv('2018.csv')"
   ]
  },
  {
   "cell_type": "code",
   "execution_count": 3,
   "metadata": {},
   "outputs": [
    {
     "name": "stdout",
     "output_type": "stream",
     "text": [
      "<class 'pandas.core.frame.DataFrame'>\n",
      "RangeIndex: 100 entries, 0 to 99\n",
      "Data columns (total 16 columns):\n",
      "id                  100 non-null object\n",
      "name                100 non-null object\n",
      "artists             100 non-null object\n",
      "danceability        100 non-null float64\n",
      "energy              100 non-null float64\n",
      "key                 100 non-null float64\n",
      "loudness            100 non-null float64\n",
      "mode                100 non-null float64\n",
      "speechiness         100 non-null float64\n",
      "acousticness        100 non-null float64\n",
      "instrumentalness    100 non-null float64\n",
      "liveness            100 non-null float64\n",
      "valence             100 non-null float64\n",
      "tempo               100 non-null float64\n",
      "duration_ms         100 non-null float64\n",
      "time_signature      100 non-null float64\n",
      "dtypes: float64(13), object(3)\n",
      "memory usage: 12.6+ KB\n"
     ]
    }
   ],
   "source": [
    "df.info()"
   ]
  },
  {
   "cell_type": "code",
   "execution_count": 4,
   "metadata": {},
   "outputs": [
    {
     "data": {
      "text/html": [
       "<div>\n",
       "<style scoped>\n",
       "    .dataframe tbody tr th:only-of-type {\n",
       "        vertical-align: middle;\n",
       "    }\n",
       "\n",
       "    .dataframe tbody tr th {\n",
       "        vertical-align: top;\n",
       "    }\n",
       "\n",
       "    .dataframe thead th {\n",
       "        text-align: right;\n",
       "    }\n",
       "</style>\n",
       "<table border=\"1\" class=\"dataframe\">\n",
       "  <thead>\n",
       "    <tr style=\"text-align: right;\">\n",
       "      <th></th>\n",
       "      <th>id</th>\n",
       "      <th>name</th>\n",
       "      <th>artists</th>\n",
       "      <th>danceability</th>\n",
       "      <th>energy</th>\n",
       "      <th>key</th>\n",
       "      <th>loudness</th>\n",
       "      <th>mode</th>\n",
       "      <th>speechiness</th>\n",
       "      <th>acousticness</th>\n",
       "      <th>instrumentalness</th>\n",
       "      <th>liveness</th>\n",
       "      <th>valence</th>\n",
       "      <th>tempo</th>\n",
       "      <th>duration_ms</th>\n",
       "      <th>time_signature</th>\n",
       "    </tr>\n",
       "  </thead>\n",
       "  <tbody>\n",
       "    <tr>\n",
       "      <th>0</th>\n",
       "      <td>6DCZcSspjsKoFjzjrWoCd</td>\n",
       "      <td>God's Plan</td>\n",
       "      <td>Drake</td>\n",
       "      <td>0.754</td>\n",
       "      <td>0.449</td>\n",
       "      <td>7.0</td>\n",
       "      <td>-9.211</td>\n",
       "      <td>1.0</td>\n",
       "      <td>0.1090</td>\n",
       "      <td>0.0332</td>\n",
       "      <td>0.000083</td>\n",
       "      <td>0.552</td>\n",
       "      <td>0.357</td>\n",
       "      <td>77.169</td>\n",
       "      <td>198973.0</td>\n",
       "      <td>4.0</td>\n",
       "    </tr>\n",
       "    <tr>\n",
       "      <th>1</th>\n",
       "      <td>3ee8Jmje8o58CHK66QrVC</td>\n",
       "      <td>SAD!</td>\n",
       "      <td>XXXTENTACION</td>\n",
       "      <td>0.740</td>\n",
       "      <td>0.613</td>\n",
       "      <td>8.0</td>\n",
       "      <td>-4.880</td>\n",
       "      <td>1.0</td>\n",
       "      <td>0.1450</td>\n",
       "      <td>0.2580</td>\n",
       "      <td>0.003720</td>\n",
       "      <td>0.123</td>\n",
       "      <td>0.473</td>\n",
       "      <td>75.023</td>\n",
       "      <td>166606.0</td>\n",
       "      <td>4.0</td>\n",
       "    </tr>\n",
       "    <tr>\n",
       "      <th>2</th>\n",
       "      <td>0e7ipj03S05BNilyu5bRz</td>\n",
       "      <td>rockstar (feat. 21 Savage)</td>\n",
       "      <td>Post Malone</td>\n",
       "      <td>0.587</td>\n",
       "      <td>0.535</td>\n",
       "      <td>5.0</td>\n",
       "      <td>-6.090</td>\n",
       "      <td>0.0</td>\n",
       "      <td>0.0898</td>\n",
       "      <td>0.1170</td>\n",
       "      <td>0.000066</td>\n",
       "      <td>0.131</td>\n",
       "      <td>0.140</td>\n",
       "      <td>159.847</td>\n",
       "      <td>218147.0</td>\n",
       "      <td>4.0</td>\n",
       "    </tr>\n",
       "    <tr>\n",
       "      <th>3</th>\n",
       "      <td>3swc6WTsr7rl9DqQKQA55</td>\n",
       "      <td>Psycho (feat. Ty Dolla $ign)</td>\n",
       "      <td>Post Malone</td>\n",
       "      <td>0.739</td>\n",
       "      <td>0.559</td>\n",
       "      <td>8.0</td>\n",
       "      <td>-8.011</td>\n",
       "      <td>1.0</td>\n",
       "      <td>0.1170</td>\n",
       "      <td>0.5800</td>\n",
       "      <td>0.000000</td>\n",
       "      <td>0.112</td>\n",
       "      <td>0.439</td>\n",
       "      <td>140.124</td>\n",
       "      <td>221440.0</td>\n",
       "      <td>4.0</td>\n",
       "    </tr>\n",
       "    <tr>\n",
       "      <th>4</th>\n",
       "      <td>2G7V7zsVDxg1yRsu7Ew9R</td>\n",
       "      <td>In My Feelings</td>\n",
       "      <td>Drake</td>\n",
       "      <td>0.835</td>\n",
       "      <td>0.626</td>\n",
       "      <td>1.0</td>\n",
       "      <td>-5.833</td>\n",
       "      <td>1.0</td>\n",
       "      <td>0.1250</td>\n",
       "      <td>0.0589</td>\n",
       "      <td>0.000060</td>\n",
       "      <td>0.396</td>\n",
       "      <td>0.350</td>\n",
       "      <td>91.030</td>\n",
       "      <td>217925.0</td>\n",
       "      <td>4.0</td>\n",
       "    </tr>\n",
       "  </tbody>\n",
       "</table>\n",
       "</div>"
      ],
      "text/plain": [
       "                      id                          name       artists  \\\n",
       "0  6DCZcSspjsKoFjzjrWoCd                    God's Plan         Drake   \n",
       "1  3ee8Jmje8o58CHK66QrVC                          SAD!  XXXTENTACION   \n",
       "2  0e7ipj03S05BNilyu5bRz    rockstar (feat. 21 Savage)   Post Malone   \n",
       "3  3swc6WTsr7rl9DqQKQA55  Psycho (feat. Ty Dolla $ign)   Post Malone   \n",
       "4  2G7V7zsVDxg1yRsu7Ew9R                In My Feelings         Drake   \n",
       "\n",
       "   danceability  energy  key  loudness  mode  speechiness  acousticness  \\\n",
       "0         0.754   0.449  7.0    -9.211   1.0       0.1090        0.0332   \n",
       "1         0.740   0.613  8.0    -4.880   1.0       0.1450        0.2580   \n",
       "2         0.587   0.535  5.0    -6.090   0.0       0.0898        0.1170   \n",
       "3         0.739   0.559  8.0    -8.011   1.0       0.1170        0.5800   \n",
       "4         0.835   0.626  1.0    -5.833   1.0       0.1250        0.0589   \n",
       "\n",
       "   instrumentalness  liveness  valence    tempo  duration_ms  time_signature  \n",
       "0          0.000083     0.552    0.357   77.169     198973.0             4.0  \n",
       "1          0.003720     0.123    0.473   75.023     166606.0             4.0  \n",
       "2          0.000066     0.131    0.140  159.847     218147.0             4.0  \n",
       "3          0.000000     0.112    0.439  140.124     221440.0             4.0  \n",
       "4          0.000060     0.396    0.350   91.030     217925.0             4.0  "
      ]
     },
     "execution_count": 4,
     "metadata": {},
     "output_type": "execute_result"
    }
   ],
   "source": [
    "df.head()"
   ]
  },
  {
   "cell_type": "markdown",
   "metadata": {},
   "source": [
    "### Conversion of column 'duration_ms' into standard format (i.e. from mili seconds to minutes)"
   ]
  },
  {
   "cell_type": "code",
   "execution_count": 5,
   "metadata": {},
   "outputs": [],
   "source": [
    "df['Duration_min'] = df['duration_ms'] / 60000"
   ]
  },
  {
   "cell_type": "code",
   "execution_count": 6,
   "metadata": {},
   "outputs": [],
   "source": [
    "df.drop(columns='duration_ms',inplace=True)"
   ]
  },
  {
   "cell_type": "markdown",
   "metadata": {},
   "source": [
    "### Identification of correlation between columns\n",
    "\n",
    "For this we will make use pf corr() function of pandas to create a heat map to find the correlation between various columns."
   ]
  },
  {
   "cell_type": "code",
   "execution_count": 7,
   "metadata": {},
   "outputs": [
    {
     "data": {
      "text/plain": [
       "<matplotlib.axes._subplots.AxesSubplot at 0x1f9ed202208>"
      ]
     },
     "execution_count": 7,
     "metadata": {},
     "output_type": "execute_result"
    },
    {
     "data": {
      "image/png": "[encoded data removed]",
      "text/plain": [
       "<Figure size 432x288 with 2 Axes>"
      ]
     },
     "metadata": {
      "needs_background": "light"
     },
     "output_type": "display_data"
    }
   ],
   "source": [
    "sns.heatmap(df.corr(),cmap=\"YlOrRd\")"
   ]
  },
  {
   "cell_type": "markdown",
   "metadata": {},
   "source": [
    "<strong>Analysis</strong>: At our first glance of the Heat Map, we see that the strongest correlation exists between 'Loudness' and 'Energy'. But it is out duty to explore behaviour of other columns too."
   ]
  },
  {
   "cell_type": "markdown",
   "metadata": {},
   "source": [
    "### Top 5 Artists with Maximum Presence in 2018"
   ]
  },
  {
   "cell_type": "code",
   "execution_count": 8,
   "metadata": {},
   "outputs": [
    {
     "data": {
      "text/plain": [
       "Post Malone     6\n",
       "XXXTENTACION    6\n",
       "Drake           4\n",
       "Ed Sheeran      3\n",
       "Marshmello      3\n",
       "Name: artists, dtype: int64"
      ]
     },
     "execution_count": 8,
     "metadata": {},
     "output_type": "execute_result"
    }
   ],
   "source": [
    "df['artists'].value_counts().head(5)"
   ]
  },
  {
   "cell_type": "markdown",
   "metadata": {},
   "source": [
    "### Danceability Column Analysis"
   ]
  },
  {
   "cell_type": "code",
   "execution_count": 9,
   "metadata": {},
   "outputs": [
    {
     "data": {
      "text/plain": [
       "<matplotlib.axes._subplots.AxesSubplot at 0x1f9ed568fd0>"
      ]
     },
     "execution_count": 9,
     "metadata": {},
     "output_type": "execute_result"
    },
    {
     "data": {
      "image/png": "[encoded data removed]",
      "text/plain": [
       "<Figure size 432x288 with 1 Axes>"
      ]
     },
     "metadata": {
      "needs_background": "light"
     },
     "output_type": "display_data"
    }
   ],
   "source": [
    "sns.distplot(df['danceability'],hist=True,kde=True)"
   ]
  },
  {
   "cell_type": "markdown",
   "metadata": {},
   "source": [
    "<b>Analysis</b>: In this graph we can see that all tracks with value greater than 0.5 are considered danceable. To make better analysis, let us divide them into 3 groups:\n",
    "1. Greater than 75%: Very Danceable\n",
    "2. Greater than 50% & Less than 75%: Regularly Danceable\n",
    "3. Less than 50%: Non Danceable"
   ]
  },
  {
   "cell_type": "code",
   "execution_count": 10,
   "metadata": {},
   "outputs": [],
   "source": [
    "Vd=df['danceability']>=0.75\n",
    "Rd=(df['danceability']>=0.5) & (df['danceability']<0.75)\n",
    "Nd=df['danceability']<0.5"
   ]
  },
  {
   "cell_type": "code",
   "execution_count": 11,
   "metadata": {},
   "outputs": [],
   "source": [
    "data=[Vd.sum(),Rd.sum(),Nd.sum()]"
   ]
  },
  {
   "cell_type": "code",
   "execution_count": 12,
   "metadata": {},
   "outputs": [
    {
     "data": {
      "text/html": [
       "<div>\n",
       "<style scoped>\n",
       "    .dataframe tbody tr th:only-of-type {\n",
       "        vertical-align: middle;\n",
       "    }\n",
       "\n",
       "    .dataframe tbody tr th {\n",
       "        vertical-align: top;\n",
       "    }\n",
       "\n",
       "    .dataframe thead th {\n",
       "        text-align: right;\n",
       "    }\n",
       "</style>\n",
       "<table border=\"1\" class=\"dataframe\">\n",
       "  <thead>\n",
       "    <tr style=\"text-align: right;\">\n",
       "      <th></th>\n",
       "      <th>Percent</th>\n",
       "    </tr>\n",
       "  </thead>\n",
       "  <tbody>\n",
       "    <tr>\n",
       "      <th>Very Danceable</th>\n",
       "      <td>43</td>\n",
       "    </tr>\n",
       "    <tr>\n",
       "      <th>Regularly Danceable</th>\n",
       "      <td>53</td>\n",
       "    </tr>\n",
       "    <tr>\n",
       "      <th>Instrumental</th>\n",
       "      <td>4</td>\n",
       "    </tr>\n",
       "  </tbody>\n",
       "</table>\n",
       "</div>"
      ],
      "text/plain": [
       "                     Percent\n",
       "Very Danceable            43\n",
       "Regularly Danceable       53\n",
       "Instrumental               4"
      ]
     },
     "execution_count": 12,
     "metadata": {},
     "output_type": "execute_result"
    }
   ],
   "source": [
    "Dance=pd.DataFrame(data,columns=['Percent'],\n",
    "                   index=['Very Danceable','Regularly Danceable','Instrumental'])\n",
    "Dance"
   ]
  },
  {
   "cell_type": "markdown",
   "metadata": {},
   "source": [
    "### Energy Column Analysis"
   ]
  },
  {
   "cell_type": "code",
   "execution_count": 13,
   "metadata": {},
   "outputs": [
    {
     "data": {
      "text/plain": [
       "<matplotlib.axes._subplots.AxesSubplot at 0x1f9ed623630>"
      ]
     },
     "execution_count": 13,
     "metadata": {},
     "output_type": "execute_result"
    },
    {
     "data": {
      "image/png": "[encoded data removed]",
      "text/plain": [
       "<Figure size 432x288 with 1 Axes>"
      ]
     },
     "metadata": {
      "needs_background": "light"
     },
     "output_type": "display_data"
    }
   ],
   "source": [
    "sns.distplot(df['energy'],hist=True,kde=True)"
   ]
  },
  {
   "cell_type": "markdown",
   "metadata": {},
   "source": [
    "<b>Analysis</b>: In this graph we can see that all tracks with value greater than 0.5 are considered energetic. To make better analysis, let us divide them into 3 groups:\n",
    "1. Greater than 75%: Very Energetic\n",
    "2. Greater than 50% & Less than 75%: Regularly Energetic\n",
    "3. Less than 50%: Non Energetic"
   ]
  },
  {
   "cell_type": "code",
   "execution_count": 14,
   "metadata": {},
   "outputs": [],
   "source": [
    "Ve=df['energy']>=0.75\n",
    "Re=(df['energy']>=0.5) & (df['energy']<0.75)\n",
    "Le=df['energy']<0.5"
   ]
  },
  {
   "cell_type": "code",
   "execution_count": 15,
   "metadata": {},
   "outputs": [
    {
     "data": {
      "text/html": [
       "<div>\n",
       "<style scoped>\n",
       "    .dataframe tbody tr th:only-of-type {\n",
       "        vertical-align: middle;\n",
       "    }\n",
       "\n",
       "    .dataframe tbody tr th {\n",
       "        vertical-align: top;\n",
       "    }\n",
       "\n",
       "    .dataframe thead th {\n",
       "        text-align: right;\n",
       "    }\n",
       "</style>\n",
       "<table border=\"1\" class=\"dataframe\">\n",
       "  <thead>\n",
       "    <tr style=\"text-align: right;\">\n",
       "      <th></th>\n",
       "      <th>Percent</th>\n",
       "    </tr>\n",
       "  </thead>\n",
       "  <tbody>\n",
       "    <tr>\n",
       "      <th>Very Energetic</th>\n",
       "      <td>32</td>\n",
       "    </tr>\n",
       "    <tr>\n",
       "      <th>Regular Energetic</th>\n",
       "      <td>55</td>\n",
       "    </tr>\n",
       "    <tr>\n",
       "      <th>Low Energetic</th>\n",
       "      <td>13</td>\n",
       "    </tr>\n",
       "  </tbody>\n",
       "</table>\n",
       "</div>"
      ],
      "text/plain": [
       "                   Percent\n",
       "Very Energetic          32\n",
       "Regular Energetic       55\n",
       "Low Energetic           13"
      ]
     },
     "execution_count": 15,
     "metadata": {},
     "output_type": "execute_result"
    }
   ],
   "source": [
    "data=[Ve.sum(),Re.sum(),Le.sum()]\n",
    "Energy=pd.DataFrame(data,columns=['Percent'],\n",
    "                   index=['Very Energetic','Regular Energetic','Low Energetic'])\n",
    "Energy"
   ]
  },
  {
   "cell_type": "markdown",
   "metadata": {},
   "source": [
    "### Correlation Zone\n",
    "\n",
    "We will consider the most important columns according to the preliminary analysis of Heat Map previously seen"
   ]
  },
  {
   "cell_type": "code",
   "execution_count": 16,
   "metadata": {},
   "outputs": [],
   "source": [
    "Correlation=df[['danceability','energy','valence','loudness','tempo']]"
   ]
  },
  {
   "cell_type": "code",
   "execution_count": 17,
   "metadata": {},
   "outputs": [
    {
     "data": {
      "text/plain": [
       "<matplotlib.axes._subplots.AxesSubplot at 0x1f9ed6b4be0>"
      ]
     },
     "execution_count": 17,
     "metadata": {},
     "output_type": "execute_result"
    },
    {
     "data": {
      "image/png": "[encoded data removed]",
      "text/plain": [
       "<Figure size 432x288 with 2 Axes>"
      ]
     },
     "metadata": {
      "needs_background": "light"
     },
     "output_type": "display_data"
    }
   ],
   "source": [
    "sns.heatmap(Correlation.corr(),annot=True,cmap=\"YlOrRd\")"
   ]
  },
  {
   "cell_type": "code",
   "execution_count": 18,
   "metadata": {},
   "outputs": [
    {
     "name": "stderr",
     "output_type": "stream",
     "text": [
      "C:\\ProgramData\\Anaconda3\\lib\\site-packages\\seaborn\\axisgrid.py:1847: UserWarning: JointGrid annotation is deprecated and will be removed in a future release.\n",
      "  warnings.warn(UserWarning(msg))\n"
     ]
    },
    {
     "data": {
      "text/plain": [
       "<seaborn.axisgrid.JointGrid at 0x1f9ed684588>"
      ]
     },
     "execution_count": 18,
     "metadata": {},
     "output_type": "execute_result"
    },
    {
     "data": {
      "image/png": "[encoded data removed]",
      "text/plain": [
       "<Figure size 432x432 with 3 Axes>"
      ]
     },
     "metadata": {
      "needs_background": "light"
     },
     "output_type": "display_data"
    }
   ],
   "source": [
    "sns.jointplot(data=Correlation,y='energy',x='loudness',kind='reg',stat_func=pearsonr)\n",
    "# Pearson's R is a measure of Linear Correlation between two variables X and Y"
   ]
  },
  {
   "cell_type": "markdown",
   "metadata": {},
   "source": [
    "<b>Analysis</b>: We can clearly observe that as the values of loudness are closer to zero the probability that our song has a high content of energy is higher, in general these values should be kept below zero but not very far away."
   ]
  },
  {
   "cell_type": "markdown",
   "metadata": {},
   "source": [
    "### Musical Tempo\n",
    "\n",
    "Musical Tempo is defined as the speed or pace at which a section of music is played. Tempo helps the composer to convey a feeling of either intensity or relaxation. We can think of the tempo as the speedometer of the music. Typically, the speed of the music is measured in beats per minute, or BPM.\n",
    "\n",
    "The 5 most usual ones were:\n",
    "\n",
    "1. Length: very slow (20 bpm)\n",
    "2. Adagio: slow and majestic (66 to 76 bpm)\n",
    "3. Andante: at the pace, quiet, a little vivacious (76 to 108 bpm)\n",
    "4. Allegro: animated and fast. (108 to 168 bpm).\n",
    "5. Presto: very fast (168 to 200 bpm)."
   ]
  },
  {
   "cell_type": "code",
   "execution_count": 19,
   "metadata": {},
   "outputs": [],
   "source": [
    "def Rhythm(value):\n",
    "    if value <= 66:\n",
    "        return 'Length'\n",
    "    elif value > 66 and value <= 76:\n",
    "        return 'Adagio'\n",
    "    elif value > 76 and value <= 108:\n",
    "        return 'Andante'\n",
    "    elif value > 108 and value <= 168:\n",
    "        return 'Allegro'\n",
    "    elif value > 168 and value <= 200:\n",
    "        return 'Presto'"
   ]
  },
  {
   "cell_type": "code",
   "execution_count": 20,
   "metadata": {},
   "outputs": [
    {
     "data": {
      "text/html": [
       "<div>\n",
       "<style scoped>\n",
       "    .dataframe tbody tr th:only-of-type {\n",
       "        vertical-align: middle;\n",
       "    }\n",
       "\n",
       "    .dataframe tbody tr th {\n",
       "        vertical-align: top;\n",
       "    }\n",
       "\n",
       "    .dataframe thead th {\n",
       "        text-align: right;\n",
       "    }\n",
       "</style>\n",
       "<table border=\"1\" class=\"dataframe\">\n",
       "  <thead>\n",
       "    <tr style=\"text-align: right;\">\n",
       "      <th></th>\n",
       "      <th>id</th>\n",
       "      <th>name</th>\n",
       "      <th>artists</th>\n",
       "      <th>danceability</th>\n",
       "      <th>energy</th>\n",
       "      <th>key</th>\n",
       "      <th>loudness</th>\n",
       "      <th>mode</th>\n",
       "      <th>speechiness</th>\n",
       "      <th>acousticness</th>\n",
       "      <th>instrumentalness</th>\n",
       "      <th>liveness</th>\n",
       "      <th>valence</th>\n",
       "      <th>tempo</th>\n",
       "      <th>time_signature</th>\n",
       "      <th>Duration_min</th>\n",
       "      <th>Rhythm</th>\n",
       "    </tr>\n",
       "  </thead>\n",
       "  <tbody>\n",
       "    <tr>\n",
       "      <th>0</th>\n",
       "      <td>6DCZcSspjsKoFjzjrWoCd</td>\n",
       "      <td>God's Plan</td>\n",
       "      <td>Drake</td>\n",
       "      <td>0.754</td>\n",
       "      <td>0.449</td>\n",
       "      <td>7.0</td>\n",
       "      <td>-9.211</td>\n",
       "      <td>1.0</td>\n",
       "      <td>0.1090</td>\n",
       "      <td>0.0332</td>\n",
       "      <td>0.000083</td>\n",
       "      <td>0.552</td>\n",
       "      <td>0.357</td>\n",
       "      <td>77.169</td>\n",
       "      <td>4.0</td>\n",
       "      <td>3.316217</td>\n",
       "      <td>Andante</td>\n",
       "    </tr>\n",
       "    <tr>\n",
       "      <th>1</th>\n",
       "      <td>3ee8Jmje8o58CHK66QrVC</td>\n",
       "      <td>SAD!</td>\n",
       "      <td>XXXTENTACION</td>\n",
       "      <td>0.740</td>\n",
       "      <td>0.613</td>\n",
       "      <td>8.0</td>\n",
       "      <td>-4.880</td>\n",
       "      <td>1.0</td>\n",
       "      <td>0.1450</td>\n",
       "      <td>0.2580</td>\n",
       "      <td>0.003720</td>\n",
       "      <td>0.123</td>\n",
       "      <td>0.473</td>\n",
       "      <td>75.023</td>\n",
       "      <td>4.0</td>\n",
       "      <td>2.776767</td>\n",
       "      <td>Adagio</td>\n",
       "    </tr>\n",
       "    <tr>\n",
       "      <th>2</th>\n",
       "      <td>0e7ipj03S05BNilyu5bRz</td>\n",
       "      <td>rockstar (feat. 21 Savage)</td>\n",
       "      <td>Post Malone</td>\n",
       "      <td>0.587</td>\n",
       "      <td>0.535</td>\n",
       "      <td>5.0</td>\n",
       "      <td>-6.090</td>\n",
       "      <td>0.0</td>\n",
       "      <td>0.0898</td>\n",
       "      <td>0.1170</td>\n",
       "      <td>0.000066</td>\n",
       "      <td>0.131</td>\n",
       "      <td>0.140</td>\n",
       "      <td>159.847</td>\n",
       "      <td>4.0</td>\n",
       "      <td>3.635783</td>\n",
       "      <td>Allegro</td>\n",
       "    </tr>\n",
       "    <tr>\n",
       "      <th>3</th>\n",
       "      <td>3swc6WTsr7rl9DqQKQA55</td>\n",
       "      <td>Psycho (feat. Ty Dolla $ign)</td>\n",
       "      <td>Post Malone</td>\n",
       "      <td>0.739</td>\n",
       "      <td>0.559</td>\n",
       "      <td>8.0</td>\n",
       "      <td>-8.011</td>\n",
       "      <td>1.0</td>\n",
       "      <td>0.1170</td>\n",
       "      <td>0.5800</td>\n",
       "      <td>0.000000</td>\n",
       "      <td>0.112</td>\n",
       "      <td>0.439</td>\n",
       "      <td>140.124</td>\n",
       "      <td>4.0</td>\n",
       "      <td>3.690667</td>\n",
       "      <td>Allegro</td>\n",
       "    </tr>\n",
       "    <tr>\n",
       "      <th>4</th>\n",
       "      <td>2G7V7zsVDxg1yRsu7Ew9R</td>\n",
       "      <td>In My Feelings</td>\n",
       "      <td>Drake</td>\n",
       "      <td>0.835</td>\n",
       "      <td>0.626</td>\n",
       "      <td>1.0</td>\n",
       "      <td>-5.833</td>\n",
       "      <td>1.0</td>\n",
       "      <td>0.1250</td>\n",
       "      <td>0.0589</td>\n",
       "      <td>0.000060</td>\n",
       "      <td>0.396</td>\n",
       "      <td>0.350</td>\n",
       "      <td>91.030</td>\n",
       "      <td>4.0</td>\n",
       "      <td>3.632083</td>\n",
       "      <td>Andante</td>\n",
       "    </tr>\n",
       "  </tbody>\n",
       "</table>\n",
       "</div>"
      ],
      "text/plain": [
       "                      id                          name       artists  \\\n",
       "0  6DCZcSspjsKoFjzjrWoCd                    God's Plan         Drake   \n",
       "1  3ee8Jmje8o58CHK66QrVC                          SAD!  XXXTENTACION   \n",
       "2  0e7ipj03S05BNilyu5bRz    rockstar (feat. 21 Savage)   Post Malone   \n",
       "3  3swc6WTsr7rl9DqQKQA55  Psycho (feat. Ty Dolla $ign)   Post Malone   \n",
       "4  2G7V7zsVDxg1yRsu7Ew9R                In My Feelings         Drake   \n",
       "\n",
       "   danceability  energy  key  loudness  mode  speechiness  acousticness  \\\n",
       "0         0.754   0.449  7.0    -9.211   1.0       0.1090        0.0332   \n",
       "1         0.740   0.613  8.0    -4.880   1.0       0.1450        0.2580   \n",
       "2         0.587   0.535  5.0    -6.090   0.0       0.0898        0.1170   \n",
       "3         0.739   0.559  8.0    -8.011   1.0       0.1170        0.5800   \n",
       "4         0.835   0.626  1.0    -5.833   1.0       0.1250        0.0589   \n",
       "\n",
       "   instrumentalness  liveness  valence    tempo  time_signature  Duration_min  \\\n",
       "0          0.000083     0.552    0.357   77.169             4.0      3.316217   \n",
       "1          0.003720     0.123    0.473   75.023             4.0      2.776767   \n",
       "2          0.000066     0.131    0.140  159.847             4.0      3.635783   \n",
       "3          0.000000     0.112    0.439  140.124             4.0      3.690667   \n",
       "4          0.000060     0.396    0.350   91.030             4.0      3.632083   \n",
       "\n",
       "    Rhythm  \n",
       "0  Andante  \n",
       "1   Adagio  \n",
       "2  Allegro  \n",
       "3  Allegro  \n",
       "4  Andante  "
      ]
     },
     "execution_count": 20,
     "metadata": {},
     "output_type": "execute_result"
    }
   ],
   "source": [
    "df['Rhythm'] = df['tempo'].apply(Rhythm)\n",
    "df.head()"
   ]
  },
  {
   "cell_type": "markdown",
   "metadata": {},
   "source": [
    "### Classification according to Tempo"
   ]
  },
  {
   "cell_type": "code",
   "execution_count": 21,
   "metadata": {},
   "outputs": [
    {
     "data": {
      "text/plain": [
       "Allegro    47\n",
       "Andante    44\n",
       "Presto      7\n",
       "Length      1\n",
       "Adagio      1\n",
       "Name: Rhythm, dtype: int64"
      ]
     },
     "execution_count": 21,
     "metadata": {},
     "output_type": "execute_result"
    }
   ],
   "source": [
    "df['Rhythm'].value_counts()"
   ]
  },
  {
   "cell_type": "code",
   "execution_count": 22,
   "metadata": {},
   "outputs": [
    {
     "data": {
      "text/plain": [
       "<matplotlib.axes._subplots.AxesSubplot at 0x1f9ed8bd860>"
      ]
     },
     "execution_count": 22,
     "metadata": {},
     "output_type": "execute_result"
    },
    {
     "data": {
      "image/png": "[encoded data removed]",
      "text/plain": [
       "<Figure size 432x288 with 1 Axes>"
      ]
     },
     "metadata": {
      "needs_background": "light"
     },
     "output_type": "display_data"
    }
   ],
   "source": [
    "df['Rhythm'].value_counts().plot.bar()"
   ]
  },
  {
   "cell_type": "markdown",
   "metadata": {},
   "source": [
    "<b>Note</b>: We can see that most of the Top 100 songs have Allegro and Andante as their Rhythm. These are characteristic of Genres:\n",
    "1. Hip Hop\n",
    "2. Pop\n",
    "3. Rap"
   ]
  },
  {
   "cell_type": "markdown",
   "metadata": {},
   "source": [
    "### Top 10 Most Danceable Songs"
   ]
  },
  {
   "cell_type": "code",
   "execution_count": 23,
   "metadata": {},
   "outputs": [
    {
     "data": {
      "text/html": [
       "<div>\n",
       "<style scoped>\n",
       "    .dataframe tbody tr th:only-of-type {\n",
       "        vertical-align: middle;\n",
       "    }\n",
       "\n",
       "    .dataframe tbody tr th {\n",
       "        vertical-align: top;\n",
       "    }\n",
       "\n",
       "    .dataframe thead th {\n",
       "        text-align: right;\n",
       "    }\n",
       "</style>\n",
       "<table border=\"1\" class=\"dataframe\">\n",
       "  <thead>\n",
       "    <tr style=\"text-align: right;\">\n",
       "      <th></th>\n",
       "      <th>name</th>\n",
       "      <th>artists</th>\n",
       "      <th>danceability</th>\n",
       "      <th>energy</th>\n",
       "      <th>valence</th>\n",
       "      <th>tempo</th>\n",
       "      <th>Rhythm</th>\n",
       "    </tr>\n",
       "  </thead>\n",
       "  <tbody>\n",
       "    <tr>\n",
       "      <th>91</th>\n",
       "      <td>Yes Indeed</td>\n",
       "      <td>Lil Baby</td>\n",
       "      <td>0.964</td>\n",
       "      <td>0.346</td>\n",
       "      <td>0.562</td>\n",
       "      <td>119.958</td>\n",
       "      <td>Allegro</td>\n",
       "    </tr>\n",
       "    <tr>\n",
       "      <th>55</th>\n",
       "      <td>FEFE (feat. Nicki Minaj &amp; Murda Beatz)</td>\n",
       "      <td>6ix9ine</td>\n",
       "      <td>0.931</td>\n",
       "      <td>0.387</td>\n",
       "      <td>0.376</td>\n",
       "      <td>125.978</td>\n",
       "      <td>Allegro</td>\n",
       "    </tr>\n",
       "    <tr>\n",
       "      <th>19</th>\n",
       "      <td>Look Alive (feat. Drake)</td>\n",
       "      <td>BlocBoy JB</td>\n",
       "      <td>0.922</td>\n",
       "      <td>0.581</td>\n",
       "      <td>0.595</td>\n",
       "      <td>140.022</td>\n",
       "      <td>Allegro</td>\n",
       "    </tr>\n",
       "    <tr>\n",
       "      <th>18</th>\n",
       "      <td>Moonlight</td>\n",
       "      <td>XXXTENTACION</td>\n",
       "      <td>0.921</td>\n",
       "      <td>0.537</td>\n",
       "      <td>0.711</td>\n",
       "      <td>128.009</td>\n",
       "      <td>Allegro</td>\n",
       "    </tr>\n",
       "    <tr>\n",
       "      <th>61</th>\n",
       "      <td>Nonstop</td>\n",
       "      <td>Drake</td>\n",
       "      <td>0.912</td>\n",
       "      <td>0.412</td>\n",
       "      <td>0.422</td>\n",
       "      <td>154.983</td>\n",
       "      <td>Allegro</td>\n",
       "    </tr>\n",
       "    <tr>\n",
       "      <th>89</th>\n",
       "      <td>Bella</td>\n",
       "      <td>Wolfine</td>\n",
       "      <td>0.909</td>\n",
       "      <td>0.493</td>\n",
       "      <td>0.844</td>\n",
       "      <td>94.016</td>\n",
       "      <td>Andante</td>\n",
       "    </tr>\n",
       "    <tr>\n",
       "      <th>73</th>\n",
       "      <td>Walk It Talk It</td>\n",
       "      <td>Migos</td>\n",
       "      <td>0.909</td>\n",
       "      <td>0.628</td>\n",
       "      <td>0.406</td>\n",
       "      <td>145.905</td>\n",
       "      <td>Allegro</td>\n",
       "    </tr>\n",
       "    <tr>\n",
       "      <th>82</th>\n",
       "      <td>HUMBLE.</td>\n",
       "      <td>Kendrick Lamar</td>\n",
       "      <td>0.908</td>\n",
       "      <td>0.621</td>\n",
       "      <td>0.421</td>\n",
       "      <td>150.011</td>\n",
       "      <td>Allegro</td>\n",
       "    </tr>\n",
       "    <tr>\n",
       "      <th>21</th>\n",
       "      <td>Te Bot? - Remix</td>\n",
       "      <td>Nio Garcia</td>\n",
       "      <td>0.903</td>\n",
       "      <td>0.675</td>\n",
       "      <td>0.442</td>\n",
       "      <td>96.507</td>\n",
       "      <td>Andante</td>\n",
       "    </tr>\n",
       "    <tr>\n",
       "      <th>30</th>\n",
       "      <td>Taste (feat. Offset)</td>\n",
       "      <td>Tyga</td>\n",
       "      <td>0.884</td>\n",
       "      <td>0.559</td>\n",
       "      <td>0.342</td>\n",
       "      <td>97.994</td>\n",
       "      <td>Andante</td>\n",
       "    </tr>\n",
       "  </tbody>\n",
       "</table>\n",
       "</div>"
      ],
      "text/plain": [
       "                                      name         artists  danceability  \\\n",
       "91                              Yes Indeed        Lil Baby         0.964   \n",
       "55  FEFE (feat. Nicki Minaj & Murda Beatz)         6ix9ine         0.931   \n",
       "19                Look Alive (feat. Drake)      BlocBoy JB         0.922   \n",
       "18                               Moonlight    XXXTENTACION         0.921   \n",
       "61                                 Nonstop           Drake         0.912   \n",
       "89                                   Bella         Wolfine         0.909   \n",
       "73                         Walk It Talk It           Migos         0.909   \n",
       "82                                 HUMBLE.  Kendrick Lamar         0.908   \n",
       "21                         Te Bot? - Remix      Nio Garcia         0.903   \n",
       "30                    Taste (feat. Offset)            Tyga         0.884   \n",
       "\n",
       "    energy  valence    tempo   Rhythm  \n",
       "91   0.346    0.562  119.958  Allegro  \n",
       "55   0.387    0.376  125.978  Allegro  \n",
       "19   0.581    0.595  140.022  Allegro  \n",
       "18   0.537    0.711  128.009  Allegro  \n",
       "61   0.412    0.422  154.983  Allegro  \n",
       "89   0.493    0.844   94.016  Andante  \n",
       "73   0.628    0.406  145.905  Allegro  \n",
       "82   0.621    0.421  150.011  Allegro  \n",
       "21   0.675    0.442   96.507  Andante  \n",
       "30   0.559    0.342   97.994  Andante  "
      ]
     },
     "execution_count": 23,
     "metadata": {},
     "output_type": "execute_result"
    }
   ],
   "source": [
    "df[['name','artists','danceability','energy','valence','tempo','Rhythm']].sort_values(by='danceability',ascending=False).head(10)"
   ]
  },
  {
   "cell_type": "code",
   "execution_count": null,
   "metadata": {},
   "outputs": [],
   "source": [
    "plt.subplot(1,2,1)\n",
    "sns.barplot(x='Rhythm', y='energy', data=df, palette='coolwarm')\n",
    "plt.tight_layout()\n",
    "\n",
    "plt.subplot(1,2,2)\n",
    "sns.barplot(x='Rhythm', y='valence', data=df, palette='coolwarm')\n",
    "plt.tight_layout()"
   ]
  },
  {
   "cell_type": "markdown",
   "metadata": {},
   "source": [
    "### Top 10 Most Energetic Songs"
   ]
  },
  {
   "cell_type": "code",
   "execution_count": null,
   "metadata": {},
   "outputs": [],
   "source": [
    "df[['name','artists','danceability','energy','valence','tempo','Rhythm']].sort_values(by='energy',ascending=False).head(10)"
   ]
  },
  {
   "cell_type": "code",
   "execution_count": null,
   "metadata": {},
   "outputs": [],
   "source": [
    "plt.subplot(1,2,1)\n",
    "sns.barplot(x='Rhythm', y='danceability', data=df, palette='coolwarm')\n",
    "plt.tight_layout()\n",
    "\n",
    "plt.subplot(1,2,2)\n",
    "sns.barplot(x='Rhythm', y='valence', data=df, palette='coolwarm')\n",
    "plt.tight_layout()"
   ]
  },
  {
   "cell_type": "markdown",
   "metadata": {},
   "source": [
    "### Top 10 Most Positive Songs\n",
    "\n",
    "Tracks with High Valence sound more positive, while Tracks with Low Valence sound negative"
   ]
  },
  {
   "cell_type": "code",
   "execution_count": null,
   "metadata": {},
   "outputs": [],
   "source": [
    "df[['name','artists','danceability','energy','valence','tempo','Rhythm']].sort_values(by='valence',ascending=False).head(10)"
   ]
  },
  {
   "cell_type": "code",
   "execution_count": null,
   "metadata": {},
   "outputs": [],
   "source": [
    "plt.subplot(1,2,1)\n",
    "sns.barplot(x='Rhythm', y='danceability', data=df, palette='coolwarm')\n",
    "plt.tight_layout()\n",
    "\n",
    "plt.subplot(1,2,2)\n",
    "sns.barplot(x='Rhythm', y='energy', data=df, palette='coolwarm')\n",
    "plt.tight_layout()"
   ]
  },
  {
   "cell_type": "markdown",
   "metadata": {},
   "source": [
    "<b>Analysis</b>: The Top 10 Songs in the above categories show that songs with categories Andante are more positive and songs with categories Allegro are more danceable."
   ]
  },
  {
   "cell_type": "markdown",
   "metadata": {},
   "source": [
    "### Analysis of Best Artists"
   ]
  },
  {
   "cell_type": "code",
   "execution_count": null,
   "metadata": {},
   "outputs": [],
   "source": [
    "df['artists'].value_counts().head(3)"
   ]
  },
  {
   "cell_type": "markdown",
   "metadata": {},
   "source": [
    "### Artist: Post Malone"
   ]
  },
  {
   "cell_type": "code",
   "execution_count": null,
   "metadata": {},
   "outputs": [],
   "source": [
    "PostMalone=df[df['artists']=='Post Malone']\n",
    "PostMalone[['name','danceability','energy','loudness','valence','tempo','Rhythm']]"
   ]
  },
  {
   "cell_type": "code",
   "execution_count": null,
   "metadata": {},
   "outputs": [],
   "source": [
    "sns.countplot(x='Rhythm', data=PostMalone, palette='coolwarm')"
   ]
  },
  {
   "cell_type": "markdown",
   "metadata": {},
   "source": [
    "### Artist: XXXTENTACION"
   ]
  },
  {
   "cell_type": "code",
   "execution_count": null,
   "metadata": {},
   "outputs": [],
   "source": [
    "XXXTENTACION=df[df['artists']=='XXXTENTACION']\n",
    "XXXTENTACION[['name','danceability','energy','loudness','valence','tempo','Rhythm']]"
   ]
  },
  {
   "cell_type": "code",
   "execution_count": null,
   "metadata": {},
   "outputs": [],
   "source": [
    "sns.countplot(x='Rhythm', data=XXXTENTACION, palette='coolwarm')"
   ]
  },
  {
   "cell_type": "markdown",
   "metadata": {},
   "source": [
    "### Artist: Drake"
   ]
  },
  {
   "cell_type": "code",
   "execution_count": null,
   "metadata": {},
   "outputs": [],
   "source": [
    "Drake=df[df['artists']=='Drake']\n",
    "Drake[['name','danceability','energy','loudness','valence','tempo','Rhythm']]"
   ]
  },
  {
   "cell_type": "code",
   "execution_count": null,
   "metadata": {},
   "outputs": [],
   "source": [
    "sns.countplot(x='Rhythm', data=Drake, palette='coolwarm')"
   ]
  },
  {
   "cell_type": "markdown",
   "metadata": {},
   "source": [
    "<b>Analysis</b>: Out of the Top 3 artists, 2 of them are more inclined towards Allegro and Drake is more inclined towards Andante."
   ]
  },
  {
   "cell_type": "markdown",
   "metadata": {},
   "source": [
    "### Analysis of column 'Mode'\n",
    "\n",
    "Mode indicates the modality (major or minor) of a track, the type of scale from which its melodic content is derived. Major is represented by 1 and minor is 0.\n",
    "We will analyze the data in such a way that we will only consider columns having danceability and energy greater than 0.5 because most of the data are concentrated in these ranges and we do not want values lower than 0.5, affecting a possible correlation between columns."
   ]
  },
  {
   "cell_type": "code",
   "execution_count": null,
   "metadata": {},
   "outputs": [],
   "source": [
    "Major = df[df['mode']==1]\n",
    "Minor = df[df['mode']==0]"
   ]
  },
  {
   "cell_type": "code",
   "execution_count": null,
   "metadata": {},
   "outputs": [],
   "source": [
    "Major = Major[(Major['danceability']>=0.5) | (Major['energy']>=0.5)]\n",
    "Minor = Minor[(Minor['danceability']>=0.5) | (Minor['energy']>=0.5)]"
   ]
  },
  {
   "cell_type": "code",
   "execution_count": null,
   "metadata": {},
   "outputs": [],
   "source": [
    "# Considering only the most important columns\n",
    "Major=Major[['danceability','energy','valence','loudness','tempo']]\n",
    "Minor=Minor[['danceability','energy','valence','loudness','tempo']]"
   ]
  },
  {
   "cell_type": "code",
   "execution_count": null,
   "metadata": {},
   "outputs": [],
   "source": [
    "sns.heatmap(Major.corr(),cmap=\"YlOrRd\")"
   ]
  },
  {
   "cell_type": "code",
   "execution_count": null,
   "metadata": {},
   "outputs": [],
   "source": [
    "sns.heatmap(Minor.corr(),cmap=\"YlOrRd\")"
   ]
  },
  {
   "cell_type": "markdown",
   "metadata": {},
   "source": [
    "<b>Analysis</b>: As we can observe the tracks with minor scales show us correlation better between the most important variables."
   ]
  },
  {
   "cell_type": "markdown",
   "metadata": {},
   "source": [
    "### Analysis on the basis of column 'key'\n",
    "\n",
    "The column 'key' has integer values which needs to be mapped to the original Pitch Class Notation. For Example 0='C', 1='C#', 2='D'"
   ]
  },
  {
   "cell_type": "code",
   "execution_count": null,
   "metadata": {},
   "outputs": [],
   "source": [
    "df.loc[ df['key']==0 ,'key']='C'    \n",
    "df.loc[ df['key']==1 ,'key']='C#'    \n",
    "df.loc[ df['key']==2 ,'key']='D'    \n",
    "df.loc[ df['key']==3 ,'key']='D#'    \n",
    "df.loc[ df['key']==4 ,'key']='E'    \n",
    "df.loc[ df['key']==5 ,'key']='F'    \n",
    "df.loc[ df['key']==6 ,'key']='F#'    \n",
    "df.loc[ df['key']==7 ,'key']='G'    \n",
    "df.loc[ df['key']==8 ,'key']='G#'    \n",
    "df.loc[ df['key']==9 ,'key']='A'    \n",
    "df.loc[ df['key']==10 ,'key']='A#' \n",
    "df.loc[ df['key']==11 ,'key']='B'"
   ]
  },
  {
   "cell_type": "code",
   "execution_count": null,
   "metadata": {},
   "outputs": [],
   "source": [
    "sns.countplot(x='key', data=df, palette='coolwarm')"
   ]
  },
  {
   "cell_type": "markdown",
   "metadata": {},
   "source": [
    "<b>Analysis</b>: We can see that maximum of the tracks belong to the key 'C#' followed by 'G#'."
   ]
  },
  {
   "cell_type": "code",
   "execution_count": null,
   "metadata": {},
   "outputs": [],
   "source": [
    "df[['danceability','key']].groupby(by='key').mean().sort_values(by='danceability',ascending=False)"
   ]
  },
  {
   "cell_type": "code",
   "execution_count": null,
   "metadata": {},
   "outputs": [],
   "source": [
    "sns.barplot(x='key', y='danceability', data=df, palette='coolwarm')"
   ]
  },
  {
   "cell_type": "markdown",
   "metadata": {},
   "source": [
    "<b>Analysis</b>: We conclude that tracks having key 'G' and 'C#' are the most Danceable Songs."
   ]
  },
  {
   "cell_type": "code",
   "execution_count": null,
   "metadata": {},
   "outputs": [],
   "source": [
    "df[['energy','key']].groupby(by='key').mean().sort_values(by='energy',ascending=False)"
   ]
  },
  {
   "cell_type": "code",
   "execution_count": null,
   "metadata": {},
   "outputs": [],
   "source": [
    "sns.barplot(x='key', y='energy', data=df, palette='coolwarm')"
   ]
  },
  {
   "cell_type": "markdown",
   "metadata": {},
   "source": [
    "<b>Analysis</b>: We conclude that tracks having key 'F#' are the most Energetic Songs."
   ]
  },
  {
   "cell_type": "code",
   "execution_count": null,
   "metadata": {},
   "outputs": [],
   "source": [
    "df[['valence','key']].groupby(by='key').mean().sort_values(by='valence',ascending=False)"
   ]
  },
  {
   "cell_type": "code",
   "execution_count": null,
   "metadata": {},
   "outputs": [],
   "source": [
    "sns.barplot(x='key', y='valence', data=df, palette='coolwarm')"
   ]
  },
  {
   "cell_type": "markdown",
   "metadata": {},
   "source": [
    "<b>Analysis</b>: We conclude that tracks having key 'A' and 'C#' are the most Positive Songs."
   ]
  },
  {
   "cell_type": "markdown",
   "metadata": {},
   "source": [
    "## Conclusion"
   ]
  },
  {
   "cell_type": "markdown",
   "metadata": {},
   "source": [
    "To answer the 2 initial questions posed by this data set, we can say that there was only a correlation between energy and loudness, on the other hand, you can see that the main reason for people to like these songs is in relation to the rhythm of the track, let's say that most of the tracks were within the range \"ALLEGRO\" and \"ANDANTE\" that are characteristic of the genres:\n",
    "\n",
    "1. Hip hop\n",
    "2. Pop\n",
    "3. Rap\n",
    "\n",
    "We further concluded the relation between various keys and danceability, eneergy and valence based on which we analysed the top energetic, danceable and positive tracks."
   ]
  }
 ],
 "metadata": {
  "kernelspec": {
   "display_name": "Python 3",
   "language": "python",
   "name": "python3"
  },
  "language_info": {
   "codemirror_mode": {
    "name": "ipython",
    "version": 3
   },
   "file_extension": ".py",
   "mimetype": "text/x-python",
   "name": "python",
   "nbconvert_exporter": "python",
   "pygments_lexer": "ipython3",
   "version": "3.7.3"
  }
 },
 "nbformat": 4,
 "nbformat_minor": 2
}
